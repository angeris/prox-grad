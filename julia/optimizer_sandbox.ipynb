{
 "cells": [
  {
   "cell_type": "code",
   "execution_count": 1,
   "metadata": {},
   "outputs": [
    {
     "data": {
      "text/plain": [
       "TrivialReg()"
      ]
     },
     "execution_count": 1,
     "metadata": {},
     "output_type": "execute_result"
    }
   ],
   "source": [
    "abstract GradFunction\n",
    "abstract ProxFunction\n",
    "\n",
    "# loss functions\n",
    "type SquareLoss <: GradFunction\n",
    "end\n",
    "\n",
    "function grad(::SquareLoss, X, y, theta)\n",
    "    return 2*(X*X'*theta - X*y)\n",
    "end\n",
    "function loss_eval(::SquareLoss, X, y, theta)\n",
    "    return norm(X'*theta - y)^2\n",
    "end\n",
    "\n",
    "square_loss = SquareLoss()\n",
    "\n",
    "\n",
    "# regularizers\n",
    "type SquareReg <: ProxFunction\n",
    "end\n",
    "\n",
    "function prox(::SquareReg, t, z)\n",
    "    return z/(t+1)\n",
    "end\n",
    "\n",
    "square_reg = SquareReg()\n",
    "\n",
    "type TrivialReg <: ProxFunction\n",
    "end\n",
    "\n",
    "function prox(::TrivialReg, t, z)\n",
    "    return z\n",
    "end\n",
    "\n",
    "trivial_reg = TrivialReg()"
   ]
  },
  {
   "cell_type": "code",
   "execution_count": 2,
   "metadata": {},
   "outputs": [
    {
     "data": {
      "text/plain": [
       "solve! (generic function with 6 methods)"
      ]
     },
     "execution_count": 2,
     "metadata": {},
     "output_type": "execute_result"
    }
   ],
   "source": [
    "# Empirical risk minimization problem\n",
    "type Erm\n",
    "    X::Array{Float64, 2}\n",
    "    y::Array{Float64, 1}\n",
    "    loss::GradFunction\n",
    "    reg::ProxFunction\n",
    "    opt_val::Float64\n",
    "    opt_x::Array{Float64, 1}\n",
    "end\n",
    "\n",
    "# Constructor\n",
    "\n",
    "# without regularizer\n",
    "function Erm(X::Array{Float64, 2}, y::Array{Float64, 1},\n",
    "        loss::GradFunction)\n",
    "    return Erm(X, y, loss, trivial_reg, 0, zeros(size(X, 1)))\n",
    "end\n",
    "\n",
    "# with regularizer\n",
    "function Erm(X::Array{Float64, 2}, y::Array{Float64, 1},\n",
    "        loss::GradFunction, reg::ProxFunction)\n",
    "    return Erm(X, y, loss, reg, 0, zeros(size(X, 1)))\n",
    "end\n",
    "\n",
    "function solve!(erm::Erm, x0=nothing, tol=1e-5, beta=.5, max_iter=300, verbose=true)\n",
    "    converged = false\n",
    "    \n",
    "    if x0 == nothing\n",
    "        x0 = zeros(size(erm.X, 1))\n",
    "    end\n",
    "    \n",
    "    x = x0\n",
    "    prev_eval = nothing\n",
    "    \n",
    "    for i in 1:max_iter\n",
    "        lambda = 1\n",
    "        curr_grad = grad(erm.loss, erm.X, erm.y, x)\n",
    "        curr_eval = loss_eval(erm.loss, erm.X, erm.y, x)\n",
    "        \n",
    "        # Prox iteration\n",
    "        while true\n",
    "            z = prox(erm.reg, lambda, x - lambda*curr_grad)\n",
    "            delta = z-x\n",
    "            z_loss = loss_eval(erm.loss, erm.X, erm.y, z)\n",
    "            if z_loss <= curr_eval + dot(curr_grad,delta) + 1/(2*lambda)*norm(delta)^2\n",
    "                x = z\n",
    "                break\n",
    "            end\n",
    "            lambda *= beta\n",
    "        end\n",
    "        \n",
    "        if prev_eval != nothing && abs(prev_eval - curr_eval) < tol\n",
    "            converged = true\n",
    "            if verbose\n",
    "                info(\"Converged after $(i) iterations\")\n",
    "            end\n",
    "            break\n",
    "        end\n",
    "        \n",
    "        prev_eval = curr_eval\n",
    "    end\n",
    "    if !converged\n",
    "        warn(\"Failed to converge after $(max_iter) iterations\")\n",
    "    end\n",
    "    \n",
    "    erm.opt_x = x\n",
    "    erm.opt_val = loss_eval(erm.loss, erm.X, erm.y, x)\n",
    "end"
   ]
  },
  {
   "cell_type": "code",
   "execution_count": 3,
   "metadata": {},
   "outputs": [
    {
     "data": {
      "text/plain": [
       "Erm([0.903013 0.725972 0.735948 0.384269; 0.104861 0.757777 0.195637 0.639418; 0.800697 0.905801 0.95659 0.117294; 0.0714895 0.913814 0.2639 0.622284],[0.03035,0.2648,0.226023,0.353814],SquareLoss(),TrivialReg(),0.0,[0.0,0.0,0.0,0.0])"
      ]
     },
     "execution_count": 3,
     "metadata": {},
     "output_type": "execute_result"
    }
   ],
   "source": [
    "X = rand(4, 4)\n",
    "y = rand(4)\n",
    "erm = Erm(X, y, square_loss, trivial_reg)"
   ]
  },
  {
   "cell_type": "code",
   "execution_count": 4,
   "metadata": {},
   "outputs": [
    {
     "name": "stderr",
     "output_type": "stream",
     "text": [
      "\u001b[1m\u001b[34mINFO: Converged after 45 iterations\n",
      "\u001b[0m"
     ]
    },
    {
     "data": {
      "text/plain": [
       "0.028214373155633767"
      ]
     },
     "execution_count": 4,
     "metadata": {},
     "output_type": "execute_result"
    }
   ],
   "source": [
    "solve!(erm)"
   ]
  },
  {
   "cell_type": "code",
   "execution_count": 5,
   "metadata": {},
   "outputs": [
    {
     "data": {
      "text/plain": [
       "2.669801126107362e-29"
      ]
     },
     "execution_count": 5,
     "metadata": {},
     "output_type": "execute_result"
    }
   ],
   "source": [
    "norm(X'*(pinv(X')*y) - y)^2"
   ]
  },
  {
   "cell_type": "code",
   "execution_count": 6,
   "metadata": {},
   "outputs": [
    {
     "data": {
      "text/plain": [
       "4-element Array{Float64,1}:\n",
       " -2.81509\n",
       "  9.70723\n",
       "  2.67097\n",
       " -8.17103"
      ]
     },
     "execution_count": 6,
     "metadata": {},
     "output_type": "execute_result"
    }
   ],
   "source": [
    "pinv(X')*y"
   ]
  },
  {
   "cell_type": "code",
   "execution_count": 7,
   "metadata": {},
   "outputs": [
    {
     "data": {
      "text/plain": [
       "4-element Array{Float64,1}:\n",
       "  0.106918\n",
       "  0.235819\n",
       " -0.054829\n",
       "  0.153149"
      ]
     },
     "execution_count": 7,
     "metadata": {},
     "output_type": "execute_result"
    }
   ],
   "source": [
    "erm.opt_x"
   ]
  },
  {
   "cell_type": "code",
   "execution_count": 8,
   "metadata": {},
   "outputs": [
    {
     "data": {
      "text/plain": [
       "0.028214373155633767"
      ]
     },
     "execution_count": 8,
     "metadata": {},
     "output_type": "execute_result"
    }
   ],
   "source": [
    "loss_eval(square_loss, erm.X, erm.y, erm.opt_x)"
   ]
  },
  {
   "cell_type": "code",
   "execution_count": null,
   "metadata": {
    "collapsed": true
   },
   "outputs": [],
   "source": []
  }
 ],
 "metadata": {
  "kernelspec": {
   "display_name": "Julia 0.5.0",
   "language": "julia",
   "name": "julia-0.5"
  },
  "language_info": {
   "file_extension": ".jl",
   "mimetype": "application/julia",
   "name": "julia",
   "version": "0.5.2"
  }
 },
 "nbformat": 4,
 "nbformat_minor": 2
}
