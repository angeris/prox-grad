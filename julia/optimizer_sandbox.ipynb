{
 "cells": [
  {
   "cell_type": "code",
   "execution_count": 1,
   "metadata": {},
   "outputs": [
    {
     "data": {
      "text/plain": [
       "TrivialReg()"
      ]
     },
     "execution_count": 1,
     "metadata": {},
     "output_type": "execute_result"
    }
   ],
   "source": [
    "abstract GradFunction\n",
    "abstract ProxFunction\n",
    "\n",
    "# loss functions\n",
    "type SquareLoss <: GradFunction\n",
    "end\n",
    "\n",
    "function grad(::SquareLoss, X, y, theta)\n",
    "    return 2*(X*X'*theta - X*y)\n",
    "end\n",
    "function loss_eval(::SquareLoss, X, y, theta)\n",
    "    return norm(X'*theta - y)^2\n",
    "end\n",
    "\n",
    "square_loss = SquareLoss()\n",
    "\n",
    "\n",
    "# regularizers\n",
    "type SquareReg <: ProxFunction\n",
    "end\n",
    "\n",
    "function prox(::SquareReg, t, z)\n",
    "    return z/(t+1)\n",
    "end\n",
    "\n",
    "square_reg = SquareReg()\n",
    "\n",
    "type TrivialReg <: ProxFunction\n",
    "end\n",
    "\n",
    "function prox(::TrivialReg, t, z)\n",
    "    return z\n",
    "end\n",
    "\n",
    "trivial_reg = TrivialReg()"
   ]
  },
  {
   "cell_type": "code",
   "execution_count": 2,
   "metadata": {},
   "outputs": [
    {
     "data": {
      "text/plain": [
       "solve! (generic function with 6 methods)"
      ]
     },
     "execution_count": 2,
     "metadata": {},
     "output_type": "execute_result"
    }
   ],
   "source": [
    "# Empirical risk minimization problem\n",
    "type Erm\n",
    "    X::Array{Float64, 2}\n",
    "    y::Array{Float64, 1}\n",
    "    loss::GradFunction\n",
    "    reg::ProxFunction\n",
    "    opt_val::Float64\n",
    "    opt_x::Array{Float64, 1}\n",
    "end\n",
    "\n",
    "# Constructor\n",
    "\n",
    "# without regularizer\n",
    "function Erm(X::Array{Float64, 2}, y::Array{Float64, 1},\n",
    "        loss::GradFunction)\n",
    "    return Erm(X, y, loss, trivial_reg, 0, zeros(size(X, 1)))\n",
    "end\n",
    "\n",
    "# with regularizer\n",
    "function Erm(X::Array{Float64, 2}, y::Array{Float64, 1},\n",
    "        loss::GradFunction, reg::ProxFunction)\n",
    "    return Erm(X, y, loss, reg, 0, zeros(size(X, 1)))\n",
    "end\n",
    "\n",
    "function solve!(erm::Erm, x0=nothing, tol=1e-5, beta=.5, max_iter=300, verbose=true)\n",
    "    converged = false\n",
    "    \n",
    "    if x0 == nothing\n",
    "        x0 = zeros(size(erm.X, 1))\n",
    "    end\n",
    "    \n",
    "    x = x0\n",
    "    prev_eval = nothing\n",
    "    \n",
    "    for i in 1:max_iter\n",
    "        lambda = 1\n",
    "        curr_grad = grad(erm.loss, erm.X, erm.y, x)\n",
    "        curr_eval = loss_eval(erm.loss, erm.X, erm.y, x)\n",
    "        \n",
    "        # Prox iteration\n",
    "        while true\n",
    "            z = prox(erm.reg, lambda, x - lambda*curr_grad)\n",
    "            delta = z-x\n",
    "            z_loss = loss_eval(erm.loss, erm.X, erm.y, z)\n",
    "            if z_loss <= curr_eval + dot(curr_grad,delta) + 1/(2*lambda)*norm(delta)^2\n",
    "                x = z\n",
    "                break\n",
    "            end\n",
    "            lambda *= beta\n",
    "        end\n",
    "        \n",
    "        if prev_eval != nothing && abs(prev_eval - curr_eval) < tol\n",
    "            converged = true\n",
    "            if verbose\n",
    "                info(\"Converged after $(i) iterations\")\n",
    "            end\n",
    "            break\n",
    "        end\n",
    "        \n",
    "        prev_eval = curr_eval\n",
    "    end\n",
    "    if !converged\n",
    "        warn(\"Failed to converge after $(max_iter) iterations\")\n",
    "    end\n",
    "    \n",
    "    erm.opt_x = x\n",
    "    erm.opt_val = loss_eval(erm.loss, erm.X, erm.y, x)\n",
    "end"
   ]
  },
  {
   "cell_type": "code",
   "execution_count": 9,
   "metadata": {},
   "outputs": [
    {
     "data": {
      "text/plain": [
       "Erm([0.146037 0.034239 … 0.0188043 0.858352; 0.860557 0.516917 … 0.121058 0.171835; 0.120473 0.444422 … 0.229493 0.804659; 0.901488 0.237072 … 0.0855929 0.0497682],[0.84662,0.29036,0.825389,0.0518828,0.325984,0.492935,0.773159,0.022638,0.951196,0.587353  …  0.246579,0.604908,0.615748,0.049061,0.563839,0.906984,0.199507,0.891373,0.898652,0.932034],SquareLoss(),TrivialReg(),0.0,[0.0,0.0,0.0,0.0])"
      ]
     },
     "execution_count": 9,
     "metadata": {},
     "output_type": "execute_result"
    }
   ],
   "source": [
    "X = rand(4, 400)\n",
    "y = rand(400)\n",
    "erm = Erm(X, y, square_loss, trivial_reg)"
   ]
  },
  {
   "cell_type": "code",
   "execution_count": 10,
   "metadata": {},
   "outputs": [
    {
     "name": "stderr",
     "output_type": "stream",
     "text": [
      "\u001b[1m\u001b[34mINFO: Converged after 24 iterations\n",
      "\u001b[0m"
     ]
    },
    {
     "data": {
      "text/plain": [
       "38.05470684691566"
      ]
     },
     "execution_count": 10,
     "metadata": {},
     "output_type": "execute_result"
    }
   ],
   "source": [
    "solve!(erm)"
   ]
  },
  {
   "cell_type": "code",
   "execution_count": 11,
   "metadata": {},
   "outputs": [
    {
     "data": {
      "text/plain": [
       "38.0546922279277"
      ]
     },
     "execution_count": 11,
     "metadata": {},
     "output_type": "execute_result"
    }
   ],
   "source": [
    "norm(X'*(pinv(X')*y) - y)^2"
   ]
  },
  {
   "cell_type": "code",
   "execution_count": 12,
   "metadata": {},
   "outputs": [
    {
     "data": {
      "text/plain": [
       "4-element Array{Float64,1}:\n",
       " 0.190174\n",
       " 0.23285 \n",
       " 0.236116\n",
       " 0.304969"
      ]
     },
     "execution_count": 12,
     "metadata": {},
     "output_type": "execute_result"
    }
   ],
   "source": [
    "pinv(X')*y"
   ]
  },
  {
   "cell_type": "code",
   "execution_count": 13,
   "metadata": {},
   "outputs": [
    {
     "data": {
      "text/plain": [
       "4-element Array{Float64,1}:\n",
       " 0.190587\n",
       " 0.232987\n",
       " 0.235945\n",
       " 0.304529"
      ]
     },
     "execution_count": 13,
     "metadata": {},
     "output_type": "execute_result"
    }
   ],
   "source": [
    "erm.opt_x"
   ]
  },
  {
   "cell_type": "code",
   "execution_count": 14,
   "metadata": {},
   "outputs": [
    {
     "data": {
      "text/plain": [
       "38.05470684691566"
      ]
     },
     "execution_count": 14,
     "metadata": {},
     "output_type": "execute_result"
    }
   ],
   "source": [
    "loss_eval(square_loss, erm.X, erm.y, erm.opt_x)"
   ]
  },
  {
   "cell_type": "code",
   "execution_count": null,
   "metadata": {
    "collapsed": true
   },
   "outputs": [],
   "source": []
  }
 ],
 "metadata": {
  "kernelspec": {
   "display_name": "Julia 0.5.0",
   "language": "julia",
   "name": "julia-0.5"
  },
  "language_info": {
   "file_extension": ".jl",
   "mimetype": "application/julia",
   "name": "julia",
   "version": "0.5.2"
  }
 },
 "nbformat": 4,
 "nbformat_minor": 2
}
