{
 "cells": [
  {
   "cell_type": "code",
   "execution_count": 1,
   "metadata": {},
   "outputs": [
    {
     "data": {
      "text/plain": [
       "TrivialReg()"
      ]
     },
     "execution_count": 1,
     "metadata": {},
     "output_type": "execute_result"
    }
   ],
   "source": [
    "abstract GradFunction\n",
    "abstract ProxFunction\n",
    "\n",
    "# loss functions\n",
    "type SquareLoss <: GradFunction\n",
    "end\n",
    "\n",
    "function grad(::SquareLoss, X, y, theta)\n",
    "    return 2*(X'*theta - y)\n",
    "end\n",
    "function loss_eval(::SquareLoss, X, y, theta)\n",
    "    return norm(X'*theta - y)^2\n",
    "end\n",
    "\n",
    "square_loss = SquareLoss()\n",
    "\n",
    "\n",
    "# regularizers\n",
    "type SquareReg <: ProxFunction\n",
    "end\n",
    "\n",
    "function prox(::SquareReg, t, z)\n",
    "    return z/(t+1)\n",
    "end\n",
    "\n",
    "square_reg = SquareReg()\n",
    "\n",
    "type TrivialReg <: ProxFunction\n",
    "end\n",
    "\n",
    "function prox(::TrivialReg, t, z)\n",
    "    return z\n",
    "end\n",
    "\n",
    "trivial_reg = TrivialReg()"
   ]
  },
  {
   "cell_type": "code",
   "execution_count": 60,
   "metadata": {},
   "outputs": [
    {
     "name": "stderr",
     "output_type": "stream",
     "text": [
      "WARNING: Method definition (::Type{Main.Erm})(Array{Float64, 2}, Array{Float64, 1}, Main.GradFunction, Main.ProxFunction, Float64, Array{Float64, 1}) in module Main at In[52]:3 overwritten at In[60]:3.\n",
      "WARNING: Method definition (::Type{Main.Erm})(Any, Any, Any, Any, Any, Any) in module Main at In[52]:3 overwritten at In[60]:3.\n",
      "WARNING: Method definition (::Type{Main.Erm})(Array{Float64, 2}, Array{Float64, 1}, Main.GradFunction) in module Main at In[52]:16 overwritten at In[60]:16.\n",
      "WARNING: Method definition (::Type{Main.Erm})(Array{Float64, 2}, Array{Float64, 1}, Main.GradFunction, Main.ProxFunction) in module Main at In[52]:22 overwritten at In[60]:22.\n",
      "WARNING: Method definition solve!(Main.Erm) in module Main at In[52]:26 overwritten at In[60]:26.\n",
      "WARNING: Method definition solve!(Main.Erm, Any) in module Main at In[52]:26 overwritten at In[60]:26.\n",
      "WARNING: Method definition solve!(Main.Erm, Any, Any) in module Main at In[52]:26 overwritten at In[60]:26.\n",
      "WARNING: Method definition solve!(Main.Erm, Any, Any, Any) in module Main at In[52]:26 overwritten at In[60]:26.\n",
      "WARNING: Method definition solve!(Main.Erm, Any, Any, Any, Any) in module Main at In[52]:26 overwritten at In[60]:26.\n",
      "WARNING: Method definition solve!(Main.Erm, Any, Any, Any, Any, Any) in module Main at In[52]:26 overwritten at In[60]:26.\n"
     ]
    },
    {
     "data": {
      "text/plain": [
       "solve! (generic function with 6 methods)"
      ]
     },
     "execution_count": 60,
     "metadata": {},
     "output_type": "execute_result"
    }
   ],
   "source": [
    "# Empirical risk minimization problem\n",
    "type Erm\n",
    "    X::Array{Float64, 2}\n",
    "    y::Array{Float64, 1}\n",
    "    loss::GradFunction\n",
    "    reg::ProxFunction\n",
    "    opt_val::Float64\n",
    "    opt_x::Array{Float64, 1}\n",
    "end\n",
    "\n",
    "# Constructor\n",
    "\n",
    "# without regularizer\n",
    "function Erm(X::Array{Float64, 2}, y::Array{Float64, 1},\n",
    "        loss::GradFunction)\n",
    "    return Erm(X, y, loss, trivial_reg, 0, zeros(size(X, 1)))\n",
    "end\n",
    "\n",
    "# with regularizer\n",
    "function Erm(X::Array{Float64, 2}, y::Array{Float64, 1},\n",
    "        loss::GradFunction, reg::ProxFunction)\n",
    "    return Erm(X, y, loss, reg, 0, zeros(size(X, 1)))\n",
    "end\n",
    "\n",
    "function solve!(erm::Erm, x0=nothing, tol=1e-5, beta=.5, max_iter=20, verbose=true)\n",
    "    converged = false\n",
    "    \n",
    "    if x0 == nothing\n",
    "        x0 = zeros(size(erm.X, 1))\n",
    "    end\n",
    "    \n",
    "    x = x0\n",
    "    \n",
    "    for i in 1:max_iter\n",
    "        lambda = 1\n",
    "        curr_grad = grad(erm.loss, erm.X, erm.y, x)\n",
    "        curr_eval = loss_eval(erm.loss, erm.X, erm.y, x)\n",
    "        info(\"current x is $(x)\")\n",
    "        \n",
    "        # Prox iteration\n",
    "        while true\n",
    "            z = prox(erm.reg, lambda, x - lambda*curr_grad)\n",
    "            delta = z-x\n",
    "            z_loss = loss_eval(erm.loss, erm.X, erm.y, z)\n",
    "            if z_loss <= curr_eval + dot(curr_grad,delta) + 1/(2*lambda)*norm(delta)^2\n",
    "                x = z\n",
    "                break\n",
    "            end\n",
    "            lambda *= beta\n",
    "        end\n",
    "    end\n",
    "    if !converged\n",
    "        warn(\"Failed to converge after $(max_iter) iterations\")\n",
    "    end\n",
    "    \n",
    "    erm.opt_x = x\n",
    "    erm.opt_val = loss_eval(erm.loss, erm.X, erm.y, x)\n",
    "end"
   ]
  },
  {
   "cell_type": "code",
   "execution_count": 61,
   "metadata": {},
   "outputs": [
    {
     "data": {
      "text/plain": [
       "Erm([0.336185 0.140731 0.0133459 0.428493; 0.84794 0.405326 0.771097 0.965971; 0.973543 0.321114 0.88306 0.346935; 0.98983 0.733295 0.279469 0.726687],[0.611797,0.385271,0.442484,0.734189],SquareLoss(),TrivialReg(),0.0,[0.0,0.0,0.0,0.0])"
      ]
     },
     "execution_count": 61,
     "metadata": {},
     "output_type": "execute_result"
    }
   ],
   "source": [
    "X = rand(4, 4)\n",
    "y = rand(4)\n",
    "erm = Erm(X, y, square_loss, trivial_reg)"
   ]
  },
  {
   "cell_type": "code",
   "execution_count": 62,
   "metadata": {},
   "outputs": [
    {
     "name": "stderr",
     "output_type": "stream",
     "text": [
      "\u001b[1m\u001b[34mINFO: current x is [0.0,0.0,0.0,0.0]\n",
      "\u001b[0m\u001b[1m\u001b[34mINFO: current x is [0.305898,0.192635,0.221242,0.367095]\n",
      "\u001b[0m\u001b[1m\u001b[34mINFO: current x is [0.305898,0.192635,0.221242,0.367095]\n",
      "\u001b[0m\u001b[1m\u001b[34mINFO: current x is [0.305898,0.192635,0.221242,0.367095]\n",
      "\u001b[0m\u001b[1m\u001b[34mINFO: current x is [0.305898,0.192635,0.221242,0.367095]\n",
      "\u001b[0m\u001b[1m\u001b[34mINFO: current x is [0.305898,0.192635,0.221242,0.367095]\n",
      "\u001b[0m\u001b[1m\u001b[34mINFO: current x is [0.305898,0.192635,0.221242,0.367095]\n",
      "\u001b[0m\u001b[1m\u001b[34mINFO: current x is [0.305898,0.192635,0.221242,0.367095]\n",
      "\u001b[0m\u001b[1m\u001b[34mINFO: current x is [0.305898,0.192635,0.221242,0.367095]\n",
      "\u001b[0m\u001b[1m\u001b[34mINFO: current x is [0.305898,0.192635,0.221242,0.367095]\n",
      "\u001b[0m\u001b[1m\u001b[34mINFO: current x is [0.305898,0.192635,0.221242,0.367095]\n",
      "\u001b[0m\u001b[1m\u001b[34mINFO: current x is [0.305898,0.192635,0.221242,0.367095]\n",
      "\u001b[0m\u001b[1m\u001b[34mINFO: current x is [0.305898,0.192635,0.221242,0.367095]\n",
      "\u001b[0m\u001b[1m\u001b[34mINFO: current x is [0.305898,0.192635,0.221242,0.367095]\n",
      "\u001b[0m\u001b[1m\u001b[34mINFO: current x is [0.305898,0.192635,0.221242,0.367095]\n",
      "\u001b[0m\u001b[1m\u001b[34mINFO: current x is [0.305898,0.192635,0.221242,0.367095]\n",
      "\u001b[0m\u001b[1m\u001b[34mINFO: current x is [0.305898,0.192635,0.221242,0.367095]\n",
      "\u001b[0m\u001b[1m\u001b[34mINFO: current x is [0.305898,0.192635,0.221242,0.367095]\n",
      "\u001b[0m\u001b[1m\u001b[34mINFO: current x is [0.305898,0.192635,0.221242,0.367095]\n",
      "\u001b[0m\u001b[1m\u001b[34mINFO: current x is [0.305898,0.192635,0.221242,0.367095]\n",
      "\u001b[0m\u001b[1m\u001b[31mWARNING: Failed to converge after 20 iterations\u001b[0m\n"
     ]
    },
    {
     "data": {
      "text/plain": [
       "0.06561182064297796"
      ]
     },
     "execution_count": 62,
     "metadata": {},
     "output_type": "execute_result"
    }
   ],
   "source": [
    "solve!(erm)"
   ]
  },
  {
   "cell_type": "code",
   "execution_count": 63,
   "metadata": {},
   "outputs": [
    {
     "data": {
      "text/plain": [
       "1.1093356479670479e-31"
      ]
     },
     "execution_count": 63,
     "metadata": {},
     "output_type": "execute_result"
    }
   ],
   "source": [
    "norm(X'*(pinv(X')*y) - y)^2"
   ]
  },
  {
   "cell_type": "code",
   "execution_count": 56,
   "metadata": {},
   "outputs": [
    {
     "data": {
      "text/plain": [
       "4-element Array{Float64,1}:\n",
       " -1.20004 \n",
       " -0.108752\n",
       "  1.49606 \n",
       "  0.567302"
      ]
     },
     "execution_count": 56,
     "metadata": {},
     "output_type": "execute_result"
    }
   ],
   "source": [
    "pinv(X')*y"
   ]
  },
  {
   "cell_type": "code",
   "execution_count": 57,
   "metadata": {},
   "outputs": [
    {
     "data": {
      "text/plain": [
       "4-element Array{Float64,1}:\n",
       " 0.371057\n",
       " 0.215693\n",
       " 0.181848\n",
       " 0.316558"
      ]
     },
     "execution_count": 57,
     "metadata": {},
     "output_type": "execute_result"
    }
   ],
   "source": [
    "erm.opt_x"
   ]
  },
  {
   "cell_type": "code",
   "execution_count": 59,
   "metadata": {},
   "outputs": [
    {
     "data": {
      "text/plain": [
       "0.3197000351687596"
      ]
     },
     "execution_count": 59,
     "metadata": {},
     "output_type": "execute_result"
    }
   ],
   "source": [
    "loss_eval(square_loss, erm.X, erm.y, erm.opt_x)"
   ]
  },
  {
   "cell_type": "code",
   "execution_count": null,
   "metadata": {
    "collapsed": true
   },
   "outputs": [],
   "source": []
  }
 ],
 "metadata": {
  "kernelspec": {
   "display_name": "Julia 0.5.0",
   "language": "julia",
   "name": "julia-0.5"
  },
  "language_info": {
   "file_extension": ".jl",
   "mimetype": "application/julia",
   "name": "julia",
   "version": "0.5.2"
  }
 },
 "nbformat": 4,
 "nbformat_minor": 2
}
